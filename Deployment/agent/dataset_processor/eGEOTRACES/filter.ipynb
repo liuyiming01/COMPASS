{
 "cells": [
  {
   "cell_type": "code",
   "execution_count": null,
   "metadata": {},
   "outputs": [
    {
     "name": "stdout",
     "output_type": "stream",
     "text": [
      "Filtered selected data length: 14528\n",
      "过滤后的数据已保存到 /home/lym/PbCirculation/MarinePbFusion/data/eGEOTRACES/GEOTRACES_Pb.csv\n"
     ]
    }
   ],
   "source": [
    "import pandas as pd\n",
    "\n",
    "# 读取GEOTRACES数据\n",
    "file_path = \"/home/lym/PbCirculation/MarinePbFusion/data/eGEOTRACES/GEOTRACES_IDP2021_Seawater_Discrete_Sample_Data_v1.csv\"\n",
    "data = pd.read_csv(file_path, low_memory=False)\n",
    "\n",
    "# 获取包含 'Pb' 的列\n",
    "Pb_HEAD = [col for col in data.columns if 'Pb' in col]\n",
    "\n",
    "# 过滤掉在所有 Pb_HEAD 中都没有数据的行\n",
    "filtered_data = data.dropna(subset=Pb_HEAD, how='all')\n",
    "\n",
    "# 定义所有需要的表头\n",
    "HEAD = [\n",
    "    \"Operator's Cruise Name:METAVAR:INDEXED_TEXT\",\n",
    "    \"Cruise Information Link:METAVAR:INDEXED_TEXT\",\n",
    "    'yyyy-mm-ddThh:mm:ss.sss',\n",
    "    'Longitude [degrees_east]',\n",
    "    'Latitude [degrees_north]',\n",
    "]\n",
    "DEPTH_HEAD = ['DEPTH [m]']\n",
    "PRS_HEAD = ['CTDPRS_T_VALUE_SENSOR [dbar]']\n",
    "TMP_HEAD = ['CTDTMP_T_VALUE_SENSOR [deg C]']\n",
    "SALINITY_HEAD = [\n",
    "    'CTDSAL_D_CONC_SENSOR [pss-78]',\n",
    "    'SALINITY_D_CONC_BOTTLE',\n",
    "    'SALINITY_D_CONC_PUMP',\n",
    "    'SALINITY_D_CONC_FISH',\n",
    "    'SALINITY_D_CONC_UWAY',\n",
    "    'SALINITY_D_CONC_BOTTLE',\n",
    "    'SALINITY_D_CONC_BOAT_PUMP'\n",
    "]\n",
    "Selected_HEAD = HEAD + DEPTH_HEAD + Pb_HEAD #+ PRS_HEAD + TMP_HEAD + SALINITY_HEAD\n",
    "\n",
    "filtered_selected_data = filtered_data[Selected_HEAD]\n",
    "print(\"Filtered selected data length:\", len(filtered_selected_data))\n",
    "\n",
    "# 保存为新的 CSV 文件\n",
    "output_file = \"/home/lym/PbCirculation/MarinePbFusion/data/eGEOTRACES/GEOTRACES_Pb_3.0.csv\"\n",
    "filtered_selected_data.to_csv(output_file, index=False)\n",
    "print(f\"过滤后的数据已保存到 {output_file}\")"
   ]
  }
 ],
 "metadata": {
  "kernelspec": {
   "display_name": "llama",
   "language": "python",
   "name": "python3"
  },
  "language_info": {
   "codemirror_mode": {
    "name": "ipython",
    "version": 3
   },
   "file_extension": ".py",
   "mimetype": "text/x-python",
   "name": "python",
   "nbconvert_exporter": "python",
   "pygments_lexer": "ipython3",
   "version": "3.10.15"
  }
 },
 "nbformat": 4,
 "nbformat_minor": 2
}
